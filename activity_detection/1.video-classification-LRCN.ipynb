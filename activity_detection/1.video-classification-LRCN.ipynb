{
 "cells": [
  {
   "cell_type": "code",
   "execution_count": null,
   "id": "2374ba71",
   "metadata": {},
   "outputs": [],
   "source": [
    "import os\n",
    "import pickle\n",
    "from time import time\n",
    "from collections import deque\n",
    "\n",
    "import cv2\n",
    "import numpy as np\n",
    "import pandas as pd\n",
    "import tensorflow as tf\n",
    "\n",
    "\n",
    "import plotly.express as px\n",
    "import plotly.graph_objects as go\n",
    "import matplotlib.pyplot as plt\n",
    "\n",
    "# tf.compat.v1.logging.set_verbosity(tf.compat.v1.logging.ERROR)"
   ]
  },
  {
   "cell_type": "markdown",
   "id": "5104306d",
   "metadata": {},
   "source": [
    "# Test video reader & image channels"
   ]
  },
  {
   "cell_type": "code",
   "execution_count": null,
   "id": "e50500f2",
   "metadata": {},
   "outputs": [],
   "source": [
    "video_reader = cv2.VideoCapture('UCF50/BaseballPitch/v_BaseballPitch_g01_c03.avi')\n",
    "flag, bgr_frame = video_reader.read()"
   ]
  },
  {
   "cell_type": "code",
   "execution_count": null,
   "id": "7db15847",
   "metadata": {},
   "outputs": [],
   "source": [
    "video_reader.get(cv2.CAP_PROP_FPS)"
   ]
  },
  {
   "cell_type": "code",
   "execution_count": null,
   "id": "cf2eb671",
   "metadata": {},
   "outputs": [],
   "source": [
    "plt.imshow(bgr_frame)"
   ]
  },
  {
   "cell_type": "code",
   "execution_count": null,
   "id": "76e0dfa7",
   "metadata": {},
   "outputs": [],
   "source": [
    "bgr_frame.shape"
   ]
  },
  {
   "cell_type": "code",
   "execution_count": null,
   "id": "fdb68726",
   "metadata": {},
   "outputs": [],
   "source": [
    "b = bgr_frame[:,:,0]\n",
    "g = bgr_frame[:,:,1]\n",
    "r = bgr_frame[:,:,2]\n",
    "\n",
    "plt.imshow(np.stack([r,g,b], axis=2))"
   ]
  },
  {
   "cell_type": "code",
   "execution_count": null,
   "id": "9e988411",
   "metadata": {},
   "outputs": [],
   "source": [
    "# cv2.imshow('image', bgr_frame)\n",
    "  \n",
    "# # waits for user to press any key\n",
    "# # (this is necessary to avoid Python kernel form crashing)\n",
    "# cv2.waitKey(0)\n",
    "  \n",
    "# # closing all open windows\n",
    "# cv2.destroyAllWindows()"
   ]
  },
  {
   "cell_type": "code",
   "execution_count": null,
   "id": "0ed9e0d9",
   "metadata": {},
   "outputs": [],
   "source": [
    "video_reader.release()"
   ]
  },
  {
   "cell_type": "code",
   "execution_count": null,
   "id": "f1db7fde",
   "metadata": {},
   "outputs": [],
   "source": [
    "video_reader.isOpened()"
   ]
  },
  {
   "cell_type": "markdown",
   "id": "bc80a0ee",
   "metadata": {},
   "source": [
    "# Explore data"
   ]
  },
  {
   "cell_type": "code",
   "execution_count": null,
   "id": "67ce6347",
   "metadata": {},
   "outputs": [],
   "source": [
    "all_classes_names = os.listdir('UCF50')\n",
    "print(all_classes_names)"
   ]
  },
  {
   "cell_type": "code",
   "execution_count": null,
   "id": "e4f4d7cc",
   "metadata": {},
   "outputs": [],
   "source": [
    "plt.figure(figsize = (12, 12))\n",
    "selected_classes = np.random.choice(all_classes_names, 4)\n",
    "for i, class_name in enumerate(selected_classes, 1):\n",
    "    video_list = os.listdir(os.path.join('UCF50', class_name))\n",
    "    video_name = np.random.choice(video_list)\n",
    "    \n",
    "    video_reader = cv2.VideoCapture(os.path.join('UCF50', class_name, video_name))\n",
    "    _, bgr_frame = video_reader.read()\n",
    "    video_reader.release()\n",
    "    \n",
    "    cv2.putText(bgr_frame, text=class_name, org=(5, 25), fontFace=cv2.FONT_HERSHEY_SIMPLEX, fontScale=1, color=(0, 0, 255), thickness=2)\n",
    "    rgb_frame = cv2.cvtColor(bgr_frame, cv2.COLOR_BGR2RGB)\n",
    "    \n",
    "    \n",
    "    plt.subplot(4, 2, i)\n",
    "    plt.imshow(rgb_frame)\n",
    "    plt.axis('off')\n",
    "    \n",
    "#     print(video_path)"
   ]
  },
  {
   "cell_type": "code",
   "execution_count": null,
   "id": "26357a38",
   "metadata": {},
   "outputs": [],
   "source": [
    "video_reader = cv2.VideoCapture('UCF50/BaseballPitch/v_BaseballPitch_g01_c01.avi')\n",
    "print(video_reader.get(cv2.CAP_PROP_FRAME_COUNT))\n",
    "video_reader.release()"
   ]
  },
  {
   "cell_type": "code",
   "execution_count": null,
   "id": "8056f001",
   "metadata": {},
   "outputs": [],
   "source": [
    "len_df = {}\n",
    "for class_name in selected_classes:\n",
    "    video_list = os.listdir(os.path.join('UCF50', class_name))\n",
    "    \n",
    "    len_list = []\n",
    "    for video_name in video_list:\n",
    "        video_reader = cv2.VideoCapture(os.path.join('UCF50', class_name, video_name))\n",
    "        len_list.append(video_reader.get(cv2.CAP_PROP_FRAME_COUNT))\n",
    "        video_reader.release()\n",
    "        \n",
    "    len_df[class_name] = len_list\n",
    "    \n",
    "for class_name in selected_classes:\n",
    "    plt.hist(len_df[class_name],alpha = 0.5)"
   ]
  },
  {
   "cell_type": "markdown",
   "id": "247a25d0",
   "metadata": {},
   "source": [
    "# Data Preparation"
   ]
  },
  {
   "cell_type": "code",
   "execution_count": null,
   "id": "a96b8a87",
   "metadata": {},
   "outputs": [],
   "source": [
    "selected_classes = ['HighJump', 'Lunges', 'JumpRope', 'Punch']"
   ]
  },
  {
   "cell_type": "code",
   "execution_count": null,
   "id": "bcf07e97",
   "metadata": {},
   "outputs": [],
   "source": [
    "HEIGHT, WIDTH = 64, 64\n",
    "NUM_FRAMES  = 30"
   ]
  },
  {
   "cell_type": "code",
   "execution_count": null,
   "id": "e40a1700",
   "metadata": {},
   "outputs": [],
   "source": [
    "def get_frames(video_path):\n",
    "    video_reader = cv2.VideoCapture(video_path)\n",
    "    frame_count = video_reader.get(cv2.CAP_PROP_FRAME_COUNT)\n",
    "    skip_frames = max(int(frame_count/NUM_FRAMES), 1) # frames to skip to get NUM_FRAMES \n",
    "\n",
    "    frame_list = []\n",
    "    for counter in range(NUM_FRAMES):\n",
    "        video_reader.set(cv2.CAP_PROP_POS_FRAMES, counter * skip_frames)\n",
    "        flag, bgr_frame = video_reader.read()\n",
    "        if flag:\n",
    "            frame = cv2.cvtColor(bgr_frame, cv2.COLOR_BGR2RGB) # change color sequence\n",
    "            frame = cv2.resize(frame, (HEIGHT, WIDTH))/255 # resize & normalise the frame\n",
    "            frame_list.append(frame)\n",
    "        else: break\n",
    "    video_reader.release()\n",
    "    return frame_list"
   ]
  },
  {
   "cell_type": "code",
   "execution_count": null,
   "id": "688a2a33",
   "metadata": {},
   "outputs": [],
   "source": [
    "frame_list = get_frames('./UCF50/BaseballPitch/v_BaseballPitch_g01_c01.avi')\n",
    "print(len(frame_list), frame_list[0].shape)"
   ]
  },
  {
   "cell_type": "code",
   "execution_count": null,
   "id": "5131d9ce",
   "metadata": {},
   "outputs": [],
   "source": [
    "# X, y, paths = [], [], []\n",
    "# for class_index, class_name in enumerate(selected_classes):\n",
    "#     video_list = os.listdir(os.path.join('UCF50', class_name))\n",
    "#     for video_name in video_list:\n",
    "#         video_path = os.path.join('UCF50', class_name, video_name)\n",
    "#         frame_list = get_frames(video_path)\n",
    "#         if len(frame_list)==NUM_FRAMES:\n",
    "#             X.append(frame_list)\n",
    "#             y.append(class_index)\n",
    "#             paths.append(video_path)\n",
    "\n",
    "# with open('data_temp.pkl', 'wb') as file:\n",
    "#     pickle.dump({'X':X,'y':y,'paths':paths}, file)"
   ]
  },
  {
   "cell_type": "code",
   "execution_count": null,
   "id": "9232abec",
   "metadata": {},
   "outputs": [],
   "source": [
    "with open('data_temp.pkl', 'rb') as file:\n",
    "    obj = pickle.load(file)\n",
    "X, y, paths = obj['X'], obj['y'], obj['paths']\n",
    "y = [selected_classes.index(each) for each in y]"
   ]
  },
  {
   "cell_type": "code",
   "execution_count": null,
   "id": "c2d14d21",
   "metadata": {},
   "outputs": [],
   "source": [
    "X, y, paths = np.array(X), np.array(y), np.array(paths)"
   ]
  },
  {
   "cell_type": "code",
   "execution_count": null,
   "id": "a56fad73",
   "metadata": {},
   "outputs": [],
   "source": [
    "{k:v for k,v in zip(*np.unique(y, return_counts=True))}"
   ]
  },
  {
   "cell_type": "code",
   "execution_count": null,
   "id": "da86fd38",
   "metadata": {},
   "outputs": [],
   "source": [
    "from tensorflow.keras.utils import to_categorical\n",
    "y = to_categorical(y)"
   ]
  },
  {
   "cell_type": "code",
   "execution_count": null,
   "id": "aeb8e85f",
   "metadata": {},
   "outputs": [],
   "source": [
    "from sklearn.model_selection import train_test_split\n",
    "X_train, X_test, y_train, y_test = train_test_split(X, y, test_size = 0.25, shuffle = True, random_state = 43)"
   ]
  },
  {
   "cell_type": "code",
   "execution_count": null,
   "id": "821d1391",
   "metadata": {},
   "outputs": [],
   "source": [
    "X_train.shape"
   ]
  },
  {
   "cell_type": "markdown",
   "id": "a7f18f92",
   "metadata": {},
   "source": [
    "# Model building"
   ]
  },
  {
   "cell_type": "code",
   "execution_count": null,
   "id": "b6b2c186",
   "metadata": {},
   "outputs": [],
   "source": [
    "from tensorflow.keras.models import Sequential\n",
    "from tensorflow.keras.layers import TimeDistributed, Conv2D, MaxPool2D, LSTM, Dense, Flatten, Dropout\n",
    "from tensorflow.keras.callbacks import EarlyStopping"
   ]
  },
  {
   "cell_type": "code",
   "execution_count": null,
   "id": "00bb9c54",
   "metadata": {},
   "outputs": [],
   "source": [
    "layer1 = Conv2D(8, kernel_size=(3,3))\n",
    "layer2 = TimeDistributed(layer1)\n",
    "\n",
    "inp = X_train[:5]\n",
    "print(inp.shape)\n",
    "\n",
    "opt1 = layer1(inp)\n",
    "opt2 = layer2(inp)\n",
    "print(opt1.shape, opt2.shape)\n",
    "print(np.sum(opt1-opt2))\n",
    "\n",
    "# conv2d  = 0,1,2,3, | 4,5,6  ; rest  | img[3dim]\n",
    "# flatten = 0,|1,2,3,4,5,6    ; batch[1dim] | rest"
   ]
  },
  {
   "cell_type": "code",
   "execution_count": null,
   "id": "e029503a",
   "metadata": {},
   "outputs": [],
   "source": [
    "# LRCN is a class of models that is both spatially and temporally deep. \n",
    "model = Sequential()\n",
    "\n",
    "\n",
    "model.add(TimeDistributed(Conv2D(32, (3, 3), padding='same',activation = 'relu'),\n",
    "                          input_shape = (NUM_FRAMES, HEIGHT, WIDTH, 3)))\n",
    "\n",
    "model.add(TimeDistributed(MaxPool2D((4, 4)))) \n",
    "model.add(TimeDistributed(Dropout(0.25)))\n",
    "\n",
    "model.add(TimeDistributed(Conv2D(64, (3, 3), padding='same',activation = 'relu')))\n",
    "model.add(TimeDistributed(MaxPool2D((4, 4))))\n",
    "model.add(TimeDistributed(Dropout(0.25)))\n",
    "\n",
    "model.add(TimeDistributed(Conv2D(32, (3, 3), padding='same',activation = 'relu')))\n",
    "model.add(TimeDistributed(MaxPool2D((2, 2))))\n",
    "model.add(TimeDistributed(Dropout(0.25)))\n",
    "\n",
    "\n",
    "model.add(TimeDistributed(Flatten()))\n",
    "\n",
    "model.add(LSTM(32))\n",
    "\n",
    "model.add(Dense(len(selected_classes), activation = 'softmax'))\n",
    "\n",
    "model.summary()"
   ]
  },
  {
   "cell_type": "code",
   "execution_count": null,
   "id": "a4797010",
   "metadata": {
    "scrolled": true
   },
   "outputs": [],
   "source": [
    "early_stopping_callback = EarlyStopping(monitor = 'val_loss', patience = 15, mode = 'min', restore_best_weights = True)\n",
    " \n",
    "model.compile(loss = 'categorical_crossentropy', optimizer = 'Adam', metrics = [\"accuracy\"])\n",
    "\n",
    "history = model.fit(x = X_train, y = y_train, epochs = 70, batch_size = 4 ,\n",
    "                                             shuffle = True, validation_split = 0.2, callbacks = [early_stopping_callback])"
   ]
  },
  {
   "cell_type": "code",
   "execution_count": null,
   "id": "ad9b0fb5",
   "metadata": {},
   "outputs": [],
   "source": [
    "model.save('./LRCN.h5')"
   ]
  },
  {
   "cell_type": "code",
   "execution_count": null,
   "id": "8d64882c",
   "metadata": {},
   "outputs": [],
   "source": [
    "model.evaluate(X_test, y_test)"
   ]
  },
  {
   "cell_type": "markdown",
   "id": "9dda3e32",
   "metadata": {},
   "source": [
    "# Test on a video - sliding window"
   ]
  },
  {
   "cell_type": "code",
   "execution_count": null,
   "id": "09361dd5",
   "metadata": {},
   "outputs": [],
   "source": [
    "model = tf.keras.models.load_model('./LRCN.h5')"
   ]
  },
  {
   "cell_type": "code",
   "execution_count": null,
   "id": "035bfb99",
   "metadata": {},
   "outputs": [],
   "source": [
    "test_frames = get_frames('./UCF50/Lunges/v_Lunges_g01_c01.avi')"
   ]
  },
  {
   "cell_type": "code",
   "execution_count": null,
   "id": "466bacf4",
   "metadata": {},
   "outputs": [],
   "source": [
    "test_frames = np.array(test_frames)\n",
    "test_frames = np.expand_dims(test_frames, 0)\n",
    "test_frames.shape"
   ]
  },
  {
   "cell_type": "code",
   "execution_count": null,
   "id": "81a47125",
   "metadata": {},
   "outputs": [],
   "source": [
    "pred = model(test_frames).numpy()\n",
    "pred"
   ]
  },
  {
   "cell_type": "code",
   "execution_count": null,
   "id": "f6b3a0e8",
   "metadata": {},
   "outputs": [],
   "source": [
    "selected_classes[np.argmax(pred)]"
   ]
  },
  {
   "cell_type": "code",
   "execution_count": null,
   "id": "568ab9ab",
   "metadata": {},
   "outputs": [],
   "source": [
    "video_reader = cv2.VideoCapture('./UCF50/Lunges/v_Lunges_g01_c01.avi')\n",
    "frame_list = deque(maxlen=NUM_FRAMES)\n",
    "predicted_class = ''\n",
    "t1 = time()\n",
    "while video_reader.isOpened():\n",
    "    flag, frame = video_reader.read()\n",
    "    \n",
    "    if not flag:\n",
    "        break\n",
    "    \n",
    "    processed_frame = cv2.cvtColor(frame, cv2.COLOR_BGR2RGB) # change color sequence\n",
    "    processed_frame = cv2.resize(processed_frame, (64, 64))/255\n",
    "    \n",
    "    frame_list.append(processed_frame)\n",
    "    \n",
    "    if len(frame_list)==NUM_FRAMES:\n",
    "        test_frames = np.expand_dims(frame_list, 0)\n",
    "        pred = model(test_frames).numpy()\n",
    "        predicted_class = selected_classes[np.argmax(pred)]\n",
    "#         print(predicted_class)\n",
    "    \n",
    "    t2 = time()\n",
    "    delta = t2-t1\n",
    "    t1=t2\n",
    "    \n",
    "    \n",
    "    cv2.putText(frame, text=predicted_class, org=(5, 25), fontFace=cv2.FONT_HERSHEY_SIMPLEX, fontScale=1, color=(0, 0, 255), thickness=2)\n",
    "    cv2.putText(frame, text=f'{round(1/delta, 2)} fps', org=(5, 50), fontFace=cv2.FONT_HERSHEY_SIMPLEX, fontScale=1, color=(0, 0, 255), thickness=2)\n",
    "    \n",
    "    \n",
    "    cv2.imshow('playback', frame)\n",
    "    \n",
    "    if cv2.waitKey(10) & 0xFF == ord('q'):\n",
    "        break\n",
    "video_reader.release()\n",
    "cv2.destroyAllWindows()"
   ]
  },
  {
   "cell_type": "code",
   "execution_count": null,
   "id": "1f8fba7c",
   "metadata": {},
   "outputs": [],
   "source": []
  }
 ],
 "metadata": {
  "kernelspec": {
   "display_name": "tf",
   "language": "python",
   "name": "tf"
  },
  "language_info": {
   "codemirror_mode": {
    "name": "ipython",
    "version": 3
   },
   "file_extension": ".py",
   "mimetype": "text/x-python",
   "name": "python",
   "nbconvert_exporter": "python",
   "pygments_lexer": "ipython3",
   "version": "3.9.13"
  }
 },
 "nbformat": 4,
 "nbformat_minor": 5
}
